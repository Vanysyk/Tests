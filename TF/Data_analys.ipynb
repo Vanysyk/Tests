{
 "cells": [
  {
   "cell_type": "markdown",
   "id": "grand-haiti",
   "metadata": {},
   "source": [
    "## Выполнение тестового задания"
   ]
  },
  {
   "cell_type": "code",
   "execution_count": 1,
   "id": "quality-disclosure",
   "metadata": {},
   "outputs": [],
   "source": [
    "import numpy as np\n",
    "import pandas as pd\n",
    "import matplotlib.pyplot as plt"
   ]
  },
  {
   "cell_type": "markdown",
   "id": "assisted-joshua",
   "metadata": {},
   "source": [
    "## Импорт данных"
   ]
  },
  {
   "cell_type": "code",
   "execution_count": 2,
   "id": "awful-organizer",
   "metadata": {},
   "outputs": [],
   "source": [
    "cg1 = pd.read_csv('data/portrait_CG1.csv', index_col='user_id', sep=';')\n",
    "cg2 = pd.read_csv('data/portrait_CG2.csv', index_col='user_id', sep=';')\n",
    "tg = pd.read_csv('data/portrait_TG.csv', index_col='user_id', sep=';')"
   ]
  },
  {
   "cell_type": "markdown",
   "id": "worthy-eligibility",
   "metadata": {},
   "source": [
    "Сокращения"
   ]
  },
  {
   "cell_type": "code",
   "execution_count": 3,
   "id": "heated-concern",
   "metadata": {},
   "outputs": [],
   "source": [
    "rd = 'retention_days'\n",
    "tr = 'total_revenue'\n",
    "\n",
    "is_s = 'is_special'\n",
    "was_s = 'was_special'\n",
    "\n",
    "lables = ['Контрольная группа 1', 'Контрольная группа 2', 'Тестовая группа']"
   ]
  },
  {
   "cell_type": "markdown",
   "id": "later-meaning",
   "metadata": {},
   "source": [
    "Функция подсчета ненулевых значений в заданном столбце"
   ]
  },
  {
   "cell_type": "code",
   "execution_count": 4,
   "id": "announced-blind",
   "metadata": {},
   "outputs": [],
   "source": [
    "def count_non_zero(d, column):\n",
    "    return len(d[d[column]!=0][column])"
   ]
  },
  {
   "cell_type": "markdown",
   "id": "virtual-flashing",
   "metadata": {},
   "source": [
    "## Предобработка\n",
    "Заменяем список дней после регистрации, в которые пользователь заходил в\n",
    "приложение, на количество этих дней"
   ]
  },
  {
   "cell_type": "code",
   "execution_count": 5,
   "id": "headed-franklin",
   "metadata": {},
   "outputs": [],
   "source": [
    "def retention_count(row):\n",
    "    if str(row[rd]) == '0' or str(row[rd]) == 'nan':\n",
    "        return 0                                              \n",
    "    return len(str(row[rd]).split(','))\n",
    "\n",
    "\n",
    "cg1[rd] = cg1.apply(retention_count, axis=1)\n",
    "cg2[rd] = cg2.apply(retention_count, axis=1)\n",
    "tg[rd] = tg.apply(retention_count, axis=1)"
   ]
  },
  {
   "cell_type": "markdown",
   "id": "southern-wrong",
   "metadata": {},
   "source": [
    "Заполняем пустые ячейки значением 0"
   ]
  },
  {
   "cell_type": "code",
   "execution_count": 6,
   "id": "aggressive-midnight",
   "metadata": {
    "scrolled": false
   },
   "outputs": [],
   "source": [
    "def fill_empty_with_zeros(df):\n",
    "    empty_columns = df.columns[df.isna().any()].tolist()\n",
    "    for i in empty_columns:\n",
    "        df[i] = df[i].fillna(0).astype(int)\n",
    "        \n",
    "        \n",
    "fill_empty_with_zeros(cg1)\n",
    "fill_empty_with_zeros(cg2)\n",
    "fill_empty_with_zeros(tg)\n"
   ]
  },
  {
   "cell_type": "markdown",
   "id": "north-terrain",
   "metadata": {},
   "source": [
    "## Анализ\n",
    "Функция для расчета медианной прибыли с человека"
   ]
  },
  {
   "cell_type": "code",
   "execution_count": 7,
   "id": "judicial-tobacco",
   "metadata": {},
   "outputs": [
    {
     "name": "stdout",
     "output_type": "stream",
     "text": [
      "Медиальная прибыль с человека для Контрольной группы 1: 9314.5\n",
      "Медиальная прибыль с человека для Контрольной группы 2: 7969.0\n",
      "Медиальная прибыль с человека для тестовой группы: 12727.0\n"
     ]
    }
   ],
   "source": [
    "def median_revenue (df):\n",
    "    return df[df[tr]!=0][tr].median()\n",
    "\n",
    "print(\"Медиальная прибыль с человека для Контрольной группы 1:\", median_revenue(cg1))\n",
    "print(\"Медиальная прибыль с человека для Контрольной группы 2:\", median_revenue(cg2))\n",
    "print(\"Медиальная прибыль с человека для тестовой группы:\", median_revenue(tg))"
   ]
  },
  {
   "cell_type": "markdown",
   "id": "breeding-playlist",
   "metadata": {},
   "source": [
    "Определим соотношение пользователей с премиум статусом в каждой выборке"
   ]
  },
  {
   "cell_type": "code",
   "execution_count": 8,
   "id": "unsigned-second",
   "metadata": {},
   "outputs": [],
   "source": [
    "users = [len(cg1), len(cg2), len(tg)]\n",
    "is_prem_users = [count_non_zero(cg1, is_s), count_non_zero(cg2, is_s), count_non_zero(tg, is_s)]\n",
    "was_prem_users = [count_non_zero(cg1, was_s), count_non_zero(cg2, was_s), count_non_zero(tg, was_s)]\n",
    "profit_per_groop = [cg1[tr].sum(), cg2[tr].sum(), tg[tr].sum()]\n",
    "\n",
    "\n",
    "def premium_percent (df):\n",
    "    return (100*df[is_s].astype(bool).sum(axis=0) / int(len(df)))\n",
    "        \n",
    "def subscription_renewal_percent (df):\n",
    "    return (100*df[is_s].astype(bool).sum(axis=0) / df[was_s].astype(bool).sum(axis=0))    \n",
    "    \n",
    "    \n",
    "    \n",
    "# процент премиум пользователей\n",
    "premium_users = [premium_percent(cg1), premium_percent(cg2), premium_percent(tg)]\n",
    "# количество сохранивших премиум\n",
    "premium_renewal = [subscription_renewal_percent(cg1), subscription_renewal_percent(cg2), subscription_renewal_percent(tg)]\n",
    "# медианный профит на человека\n",
    "median_profit = [median_revenue(cg1), median_revenue(cg2), median_revenue(tg)]\n",
    "\n",
    "\n",
    "# ожидаемая прибыль со всей группы\n",
    "excepted_profit_per_groop = [median_profit[i]*is_prem_users[i] for i in range(3)]"
   ]
  },
  {
   "cell_type": "markdown",
   "id": "challenging-beach",
   "metadata": {},
   "source": [
    "Определим количество премиум пользователей в контрольных и тестовой группах в процентах от общего числа людей в выборках"
   ]
  },
  {
   "cell_type": "code",
   "execution_count": 9,
   "id": "cellular-spray",
   "metadata": {},
   "outputs": [
    {
     "name": "stdout",
     "output_type": "stream",
     "text": [
      "\n"
     ]
    },
    {
     "data": {
      "image/png": "[encoded data removed]",
      "text/plain": [
       "<Figure size 576x432 with 1 Axes>"
      ]
     },
     "metadata": {
      "needs_background": "light"
     },
     "output_type": "display_data"
    }
   ],
   "source": [
    "plt.figure(figsize=(8, 6))\n",
    "\n",
    " \n",
    "plt.bar(lables, premium_users)\n",
    "\n",
    "plt.xticks(np.arange(3), (lables))\n",
    "plt.ylabel('Количество премиум-пользователей, %')\n",
    "plt.title('Количество премиум-пользователей')\n",
    "print('')"
   ]
  },
  {
   "cell_type": "markdown",
   "id": "parliamentary-animal",
   "metadata": {},
   "source": [
    "Процент премиум пользователей в выборках"
   ]
  },
  {
   "cell_type": "code",
   "execution_count": 10,
   "id": "reliable-framing",
   "metadata": {},
   "outputs": [
    {
     "data": {
      "text/plain": [
       "[4.423963133640553, 4.4793621013133205, 3.6443825441039928]"
      ]
     },
     "execution_count": 10,
     "metadata": {},
     "output_type": "execute_result"
    }
   ],
   "source": [
    "premium_users"
   ]
  },
  {
   "cell_type": "markdown",
   "id": "falling-version",
   "metadata": {},
   "source": [
    "Из графика следует, что при незначительной разнице премиум пользователей в контрольных группах, в тестовой оно значительно ниже"
   ]
  },
  {
   "cell_type": "code",
   "execution_count": 11,
   "id": "whole-nightmare",
   "metadata": {},
   "outputs": [
    {
     "name": "stdout",
     "output_type": "stream",
     "text": [
      "\n"
     ]
    },
    {
     "data": {
      "image/png": "[encoded data removed]",
      "text/plain": [
       "<Figure size 576x432 with 1 Axes>"
      ]
     },
     "metadata": {
      "needs_background": "light"
     },
     "output_type": "display_data"
    }
   ],
   "source": [
    "plt.figure(figsize=(8, 6))\n",
    "\n",
    "plt.bar(lables, premium_renewal)\n",
    "\n",
    "plt.xticks(np.arange(3), (lables))\n",
    "plt.ylabel('Число пользователей')\n",
    "plt.title('Кол-во пользователей, сохранивших премиум, %')\n",
    "print('')"
   ]
  },
  {
   "cell_type": "markdown",
   "id": "looking-elephant",
   "metadata": {},
   "source": [
    "Число пользователей, пожелавших сохранить премиум"
   ]
  },
  {
   "cell_type": "code",
   "execution_count": 12,
   "id": "innovative-jumping",
   "metadata": {},
   "outputs": [
    {
     "data": {
      "text/plain": [
       "[44.03669724770642, 46.4720194647202, 38.48039215686274]"
      ]
     },
     "execution_count": 12,
     "metadata": {},
     "output_type": "execute_result"
    }
   ],
   "source": [
    "premium_renewal"
   ]
  },
  {
   "cell_type": "markdown",
   "id": "variable-recovery",
   "metadata": {},
   "source": [
    "## Выбросы\n",
    "Для примера проверим данные по прибыли из первой контрольной группы"
   ]
  },
  {
   "cell_type": "code",
   "execution_count": 13,
   "id": "personalized-eating",
   "metadata": {},
   "outputs": [
    {
     "name": "stdout",
     "output_type": "stream",
     "text": [
      "user_id\n",
      "960936960        26\n",
      "891653790       728\n",
      "891622389       767\n",
      "891135642       962\n",
      "891792453      1313\n",
      "              ...  \n",
      "892421277     60333\n",
      "892366260     63024\n",
      "891383310     63037\n",
      "892216461     64298\n",
      "892333905    486330\n",
      "Name: total_revenue, Length: 192, dtype: int64\n"
     ]
    }
   ],
   "source": [
    "sorted_cg1_tr = cg1[cg1[tr]!=0][tr].sort_values()\n",
    "print(sorted_cg1_tr)"
   ]
  },
  {
   "cell_type": "markdown",
   "id": "crucial-riding",
   "metadata": {},
   "source": [
    "В таблице выше видно наличие краевых значений, сильно отклоняющихся от своих соседей."
   ]
  },
  {
   "cell_type": "code",
   "execution_count": 14,
   "id": "executive-plaza",
   "metadata": {},
   "outputs": [
    {
     "name": "stdout",
     "output_type": "stream",
     "text": [
      "Прибыль от одного человека: 486330\n",
      "Прибыль от остальных: 2094937\n"
     ]
    },
    {
     "data": {
      "image/png": "[encoded data removed]",
      "text/plain": [
       "<Figure size 432x288 with 1 Axes>"
      ]
     },
     "metadata": {},
     "output_type": "display_data"
    }
   ],
   "source": [
    "print(\"Прибыль от одного человека:\", sorted_cg1_tr.values[-1])\n",
    "print(\"Прибыль от остальных:\", sorted_cg1_tr[:-1].sum())\n",
    "labels = 'Один человек', 'Остальные'\n",
    "sizes = [sorted_cg1_tr.values[-1], sorted_cg1_tr[:-1].sum()]\n",
    "\n",
    "fig1, ax1 = plt.subplots()\n",
    "ax1.pie(sizes, labels=labels, autopct='%1.1f%%',\n",
    "        shadow=True, startangle=90)\n",
    "ax1.axis('equal')\n",
    "\n",
    "plt.show()"
   ]
  },
  {
   "cell_type": "markdown",
   "id": "cleared-recommendation",
   "metadata": {},
   "source": [
    "На круговой диаграмме отображено влияние выброса в данных.\n",
    "\n",
    "\n",
    "Построим гистограмму распределения прибыли от пользователей из первой контрольной группы."
   ]
  },
  {
   "cell_type": "code",
   "execution_count": 15,
   "id": "satellite-promotion",
   "metadata": {},
   "outputs": [
    {
     "name": "stdout",
     "output_type": "stream",
     "text": [
      "\n"
     ]
    },
    {
     "data": {
      "image/png": "[encoded data removed]",
      "text/plain": [
       "<Figure size 432x288 with 2 Axes>"
      ]
     },
     "metadata": {
      "needs_background": "light"
     },
     "output_type": "display_data"
    }
   ],
   "source": [
    "fig, (ax1, ax2) = plt.subplots(2)\n",
    "fig.suptitle('Revenue histogram')\n",
    "\n",
    "n, bins, patches = ax1.hist(sorted_cg1_tr, 200, density=True, facecolor='b')\n",
    "ax2.hist(sorted_cg1_tr[:-1], 200, density=True, facecolor='b')\n",
    "\n",
    "print('')"
   ]
  },
  {
   "cell_type": "markdown",
   "id": "neither-initial",
   "metadata": {},
   "source": [
    "На верхней гистограмме можно наблюдать выброс в районе 500 тыс.\n",
    "\n",
    "Нижняя гистограмма отображает аналогичные значения без выброса.\n",
    "\n",
    "Из-за наличия выбросов, будем использовать медиану в качестве показателя среднего, так как она защищена от влияния ошибок и исключительных значений."
   ]
  },
  {
   "cell_type": "code",
   "execution_count": 16,
   "id": "perfect-shepherd",
   "metadata": {},
   "outputs": [
    {
     "name": "stdout",
     "output_type": "stream",
     "text": [
      "\n"
     ]
    },
    {
     "data": {
      "image/png": "[encoded data removed]",
      "text/plain": [
       "<Figure size 576x432 with 1 Axes>"
      ]
     },
     "metadata": {
      "needs_background": "light"
     },
     "output_type": "display_data"
    }
   ],
   "source": [
    "sorted_cg2_tr = cg2[cg2[tr]!=0][tr].sort_values()\n",
    "sorted_tg_tr = tg[tg[tr]!=0][tr].sort_values()\n",
    "sortet_tg = (sorted_cg1_tr[:-1].sum(), sorted_cg2_tr[:-2].sum(), sorted_tg_tr[:-2].sum())\n",
    "\n",
    "\n",
    "x = np.arange(3) \n",
    "width = .4\n",
    "\n",
    "plt.figure(figsize=(8, 6))\n",
    "plt.bar(x-width/2, profit_per_groop, width) \n",
    "plt.bar(x+width/2, sortet_tg, width)\n",
    "plt.xticks(np.arange(3), (lables))\n",
    "plt.legend(['С выбросами', 'Без выбросов'])\n",
    "plt.ylabel('Прибыль')\n",
    "plt.title('Сравнение фактической прибыли с выбросами и без')\n",
    "print('')"
   ]
  },
  {
   "cell_type": "markdown",
   "id": "numerical-exchange",
   "metadata": {},
   "source": [
    "Устранение выбросов для подсчета прибыли со всей группы позволяет получить более объективную оценку. Это продемонстрировано на графике выше"
   ]
  },
  {
   "cell_type": "code",
   "execution_count": 17,
   "id": "corrected-penetration",
   "metadata": {
    "scrolled": false
   },
   "outputs": [
    {
     "name": "stdout",
     "output_type": "stream",
     "text": [
      "\n"
     ]
    },
    {
     "data": {
      "image/png": "[encoded data removed]",
      "text/plain": [
       "<Figure size 576x432 with 1 Axes>"
      ]
     },
     "metadata": {
      "needs_background": "light"
     },
     "output_type": "display_data"
    }
   ],
   "source": [
    "plt.figure(figsize=(8, 6))\n",
    "\n",
    "plt.bar(lables, median_profit)\n",
    "\n",
    "plt.xticks(np.arange(3), (lables))\n",
    "plt.ylabel('Прибыль')\n",
    "plt.title('Медианная прибыль с 1 премиум юзера')\n",
    "print('')"
   ]
  },
  {
   "cell_type": "markdown",
   "id": "failing-beverage",
   "metadata": {},
   "source": [
    "Однако, если рассчитать прибыль, исключив выбросы, то можно увидеть, что в тестовой группе она выше"
   ]
  },
  {
   "cell_type": "code",
   "execution_count": 18,
   "id": "precise-preview",
   "metadata": {},
   "outputs": [
    {
     "name": "stdout",
     "output_type": "stream",
     "text": [
      "\n"
     ]
    },
    {
     "data": {
      "image/png": "[encoded data removed]",
      "text/plain": [
       "<Figure size 576x432 with 1 Axes>"
      ]
     },
     "metadata": {
      "needs_background": "light"
     },
     "output_type": "display_data"
    }
   ],
   "source": [
    "plt.figure(figsize=(8, 6))\n",
    "plt.bar(lables, excepted_profit_per_groop)\n",
    "\n",
    "plt.xticks(np.arange(3), (lables))\n",
    "plt.ylabel('Прибыль')\n",
    "plt.title('Ожидаемая прибыль со всей группы')\n",
    "print('')"
   ]
  },
  {
   "cell_type": "markdown",
   "id": "technical-attempt",
   "metadata": {},
   "source": [
    "Ожидаемая прибыль рассчитывается как произведение медианной прибыли от одного премиум-пользователя на их кол-во"
   ]
  },
  {
   "cell_type": "code",
   "execution_count": 19,
   "id": "adjacent-survivor",
   "metadata": {},
   "outputs": [
    {
     "name": "stdout",
     "output_type": "stream",
     "text": [
      "\n"
     ]
    },
    {
     "data": {
      "image/png": "[encoded data removed]",
      "text/plain": [
       "<Figure size 576x432 with 1 Axes>"
      ]
     },
     "metadata": {
      "needs_background": "light"
     },
     "output_type": "display_data"
    }
   ],
   "source": [
    "x = np.arange(3) \n",
    "width = .4\n",
    "\n",
    "plt.figure(figsize=(8, 6))\n",
    "plt.bar(x-width/2, profit_per_groop, width) \n",
    "plt.bar(x+width/2, excepted_profit_per_groop, width)\n",
    "plt.xticks(np.arange(3), (lables))\n",
    "plt.legend(['Фактическая', 'Ожидаемая'])\n",
    "plt.ylabel('Прибыль')\n",
    "plt.title('Сравнение фактической и ожидаемой прибыли')\n",
    "print('')"
   ]
  },
  {
   "cell_type": "markdown",
   "id": "unlimited-corps",
   "metadata": {},
   "source": [
    "# Вывод\n",
    "В тестовой группе наблюдается снижение количетва пользователей с премиум-доступом, однако медианная выручка с таких пользователей повысилась.\n",
    "\n",
    "Фактическая прибыль тестовой группы находится между значениями двух контрольных групп, однако, если исключить выбросы, тестовая группа показывает лучший результат.\n",
    "\n",
    "Так же, тестовая группа выигрывает по ожидаемой прибыли, расчитываемой как произведение медианной прибыли на количество премиум-пользователей.\n",
    "\n",
    "Исходя из этого можно сделать вывод, что эксперимент финансово удачен."
   ]
  }
 ],
 "metadata": {
  "kernelspec": {
   "display_name": "Python 3",
   "language": "python",
   "name": "python3"
  },
  "language_info": {
   "codemirror_mode": {
    "name": "ipython",
    "version": 3
   },
   "file_extension": ".py",
   "mimetype": "text/x-python",
   "name": "python",
   "nbconvert_exporter": "python",
   "pygments_lexer": "ipython3",
   "version": "3.9.1"
  }
 },
 "nbformat": 4,
 "nbformat_minor": 5
}
